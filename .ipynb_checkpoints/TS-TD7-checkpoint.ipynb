{
 "cells": [
  {
   "cell_type": "raw",
   "metadata": {},
   "source": [
    "<script>\n",
    "  function code_toggle() {\n",
    "    if (code_shown){\n",
    "      $('div.input').hide('500');\n",
    "      $('#toggleButton').val('Show Code')\n",
    "    } else {\n",
    "      $('div.input').show('500');\n",
    "      $('#toggleButton').val('Hide Code')\n",
    "    }\n",
    "    code_shown = !code_shown\n",
    "  }\n",
    "\n",
    "  $( document ).ready(function(){\n",
    "    code_shown=false;\n",
    "    $('div.input').hide()\n",
    "  });\n",
    "</script>\n",
    "<form action=\"javascript:code_toggle()\"><input type=\"submit\" id=\"toggleButton\" value=\"Show Code\"></form>"
   ]
  },
  {
   "cell_type": "raw",
   "metadata": {},
   "source": [
    "<script>\n",
    "MathJax.Hub.Config({\n",
    "    TeX: { equationNumbers: { autoNumber: \"AMS\" } }\n",
    "});\n",
    "MathJax.Hub.Queue(\n",
    "  [\"resetEquationNumbers\", MathJax.InputJax.TeX],\n",
    "  [\"PreProcess\", MathJax.Hub],\n",
    "  [\"Reprocess\", MathJax.Hub]\n",
    ");\n",
    "</script>"
   ]
  },
  {
   "cell_type": "markdown",
   "metadata": {},
   "source": [
    "# TD 7 : Filtre numérique réjecteur"
   ]
  },
  {
   "cell_type": "markdown",
   "metadata": {},
   "source": [
    "## Partie I"
   ]
  },
  {
   "cell_type": "markdown",
   "metadata": {},
   "source": [
    "Dans le plan de Laplace, la fonction de transfert du filtre est\n",
    "\n",
    "\\begin{equation}\\label{eq:Hp}\n",
    "H(p) = \\frac{1 + p^2}{1 + d p + p^2}, \n",
    "\\end{equation}\n",
    "\n",
    "ou $p=\\sigma + j\\omega$. Donc, la pulsation est la partie imaginaire de p, soit $\\omega = \\mathrm{Im}(p)$. "
   ]
  },
  {
   "cell_type": "markdown",
   "metadata": {},
   "source": [
    "## Question 1\n",
    "\n",
    "Le gain (échelle linéaire) en fonction de la pulsation est\n",
    "\n",
    "\\begin{equation}\\label{eq:HomegaModulus}\n",
    "| H(p=j\\omega) | = \\frac{\\left|1 + (j\\omega)^2 \\right|}{\\left| 1 + d  (j\\omega) +  (j\\omega)^2 \\right|} = \\frac{\\left|1 - \\omega^2 \\right|}{\\left| 1 + j d \\omega -  \\omega^2 \\right|}\n",
    "\\end{equation}\n",
    "\n",
    "Il est zéro ou $1 - \\omega_0^2 = 0$ soit $\\omega_0 = \\pm 1$."
   ]
  },
  {
   "cell_type": "markdown",
   "metadata": {},
   "source": [
    "## Question 2\n",
    "\n",
    "On cherche $\\omega_1$ et $\\omega_2$ telles que\n",
    "\n",
    "\\begin{equation}\n",
    "20 \\log \\left| H(j\\omega_{1,2}) \\right| = -3 \\; \\Leftrightarrow \\; \\left| H(j\\omega_{1,2}) \\right| = 10^{-3/20}\\approx \\frac{1}{\\sqrt{2}}. \n",
    "\\end{equation}\n",
    "\n",
    "En utilisant équation \\ref{eq:HomegaModulus}, on a\n",
    "\n",
    "\\begin{equation}\\label{eq:}\n",
    "| H(p=j\\omega) |^2 = \\frac{\\left( 1 - \\omega^2 \\right)^2}{\\left( 1  -  \\omega^2 \\right)^2 + (d\\omega)^2} \\stackrel{!}{=} \\frac{1}{2}\n",
    "\\end{equation}\n",
    "\n",
    "et on obtient\n",
    "\n",
    "\\begin{align}\n",
    "\\omega^2 + d \\omega - 1 &\\stackrel{!}{=} 0 \\\\\n",
    "\\mathrm{ou}\\; \\omega^2 - d \\omega - 1 &\\stackrel{!}{=} 0\n",
    "\\end{align}\n",
    "\n",
    "En imposant le contraint $\\omega > 0$, on obtient\n",
    "\n",
    "\\begin{align}\n",
    "\\omega_1 &= \\frac{-d \\pm \\sqrt{d^2 + 4}}{2} \\stackrel{d\\ll1,\\omega>0}{\\approx} \\frac{-d + 2}{2} = 1 - \\frac{d}{2} = \\omega_0 - \\frac{d}{2} \\\\ \n",
    "\\omega_2 &= \\frac{+d \\pm \\sqrt{d^2 + 4}}{2} \\stackrel{d\\ll1,\\omega>0}{\\approx} \\frac{d + 2}{2} = 1 + \\frac{d}{2} = \\omega_0 + \\frac{d}{2} \n",
    "\\end{align}\n",
    "\n",
    "La largeur de la bande réjectée (en Hz) est \n",
    "\\begin{equation}\n",
    "B = \\frac{\\omega_2 - \\omega_1}{2 \\pi}\n",
    "\\end{equation}\n"
   ]
  },
  {
   "cell_type": "markdown",
   "metadata": {},
   "source": [
    "## Question 3"
   ]
  },
  {
   "cell_type": "code",
   "execution_count": 1,
   "metadata": {},
   "outputs": [
    {
     "data": {
      "application/vnd.jupyter.widget-view+json": {
       "model_id": "da4daf4e96bf47c5bb3ac6329cb3b218",
       "version_major": 2,
       "version_minor": 0
      },
      "text/plain": [
       "interactive(children=(FloatSlider(value=0.0, continuous_update=False, description='d', max=1.0, step=0.01), Ou…"
      ]
     },
     "metadata": {},
     "output_type": "display_data"
    }
   ],
   "source": [
    "from ipywidgets import interact, interact_manual, IntSlider, FloatSlider, VBox, HBox, Label, Output\n",
    "import numpy as np\n",
    "from IPython.display import clear_output\n",
    "import matplotlib.pyplot as plt\n",
    "\n",
    "Hp = lambda p, d: (1. + p**2) / (1 + d*p + p**2)\n",
    "omega12 = lambda d: [(-d + np.sqrt(d**2+4)) / 2., (d + np.sqrt(d**2+4)) / 2.] if d > 0 else [1,1]\n",
    "omega12approx = lambda d: [1-d/2., 1+d/2.] if d > 0 else [1,1]\n",
    "omegaRange = np.linspace(0, 2, 101)\n",
    "slider = FloatSlider(min=0, max=1, step=0.01, continuous_update=False)\n",
    "\n",
    "def plotH(d):\n",
    "    plt.figure(figsize=(10,6))\n",
    "    plt.plot(omegaRange, np.absolute(Hp(1j*omegaRange, d)))\n",
    "    o1, o2 = omega12(d)\n",
    "    o1a, o2a = omega12approx(d)\n",
    "    plt.axvspan(o1, o2, color='C1', alpha=0.2)\n",
    "    plt.axvline(o1, color='C1', alpha=0.5)\n",
    "    plt.axvline(o2, color='C1', alpha=0.5)\n",
    "    plt.axvline(o1a, color='k', alpha=1)\n",
    "    plt.axvline(o2a, color='k', alpha=1)\n",
    "    plt.axhline(1./np.sqrt(2.), linestyle='--', color='C3')\n",
    "    plt.axvline(1, linestyle='--', color='C3')\n",
    "    plt.xlabel(r\"$\\omega$\", fontsize='xx-large')\n",
    "    plt.ylabel(r\"$|H(p=j\\omega)|$\", fontsize='xx-large')\n",
    "#     plt.xscale('log')\n",
    "#     plt.yscale('log')\n",
    "    plt.grid(True)\n",
    "\n",
    "interact(plotH, d=slider)\n",
    "slider.value = 0.1\n",
    "plt.show()"
   ]
  },
  {
   "cell_type": "markdown",
   "metadata": {},
   "source": [
    "# Partie II\n",
    "\n",
    "La transformation bilinéaire transform l'axe imaginaire $\\omega$ du plan de Laplace dans le circle d'unité du plan des z. "
   ]
  },
  {
   "cell_type": "code",
   "execution_count": 2,
   "metadata": {},
   "outputs": [
    {
     "name": "stdout",
     "output_type": "stream",
     "text": [
      "done\n"
     ]
    }
   ],
   "source": [
    "import numpy as np\n",
    "import matplotlib.pyplot as plt\n",
    "import imageio\n",
    "from io import BytesIO\n",
    "plt.style.use('ggplot')\n",
    "\n",
    "\n",
    "Te = 1. # 1/s\n",
    "p2z = lambda p, K : (1 + p/K) / (1 - p/K)\n",
    "phiRange = np.linspace(0, 2*np.pi, 50)\n",
    "z1 = np.exp(1j*phiRange)\n",
    "\n",
    "K = 1.83\n",
    "# K = 0.1\n",
    "\n",
    "images = []\n",
    "for k in np.linspace(0, 2, 10):\n",
    "    newOmega = k * 2*np.pi / Te\n",
    "    fig, ax = plt.subplots(nrows=1, ncols=2, figsize=(16, 8))\n",
    "    for n in [1,2,3]:\n",
    "        ax[0].axhline(n*2*np.pi/Te, color='C3', linestyle='--', alpha=0.6)\n",
    "        ax[0].axhline(-n*2*np.pi/Te, color='C3', linestyle='--', alpha=0.6)\n",
    "    ax[0].axvline(0, color='C1')\n",
    "    ax[0].axhline(0, color='C3')\n",
    "    ax[0].plot([0,0], [0, newOmega], linewidth=3, color='C0')\n",
    "    ax[0].scatter([0,0], [0, newOmega], color='C0')\n",
    "    ax[0].set_xlabel(r\"Re(p) = $\\sigma$\")\n",
    "    ax[0].set_ylabel(r\"Im(p) = $\\omega$ = $2\\pi f$\")\n",
    "    ax[0].set_title(\"Plan de Pascal\")\n",
    "    ax[0].set_xlim(-1, 1)\n",
    "    ax[0].grid(False)\n",
    "    #---\n",
    "    ax[1].plot(z1.real, z1.imag, color='C1')\n",
    "    z = p2z(1j*newOmega, K)\n",
    "    ax[1].plot([0, z.real], [0, z.imag], linewidth=3, color='C0')\n",
    "    ax[1].scatter([0, z.real], [0, z.imag], color='C0')\n",
    "    ax[1].axhline(0, color='C3')\n",
    "    ax[1].axvline(0, color='C3')\n",
    "    ax[1].set_xlabel(r\"Re(z)\")\n",
    "    ax[1].set_ylabel(r\"Im(z)\")  \n",
    "    ax[1].set_title(\"Plan des z\")\n",
    "    ax[1].grid(False)\n",
    "    ax[1].set_xlim(-1.1, 1.1)\n",
    "    ax[1].set_ylim(-1.1, 1.1)\n",
    "    output = BytesIO()\n",
    "    fig.savefig(output)\n",
    "    plt.close(fig)  # close figure when we're finished to prevent matplotlib warnings\n",
    "    output.seek(0)\n",
    "    images.append(imageio.imread(output))\n",
    "imageio.mimsave(\"trafoBiLin.gif\", images, fps=5)\n",
    "    \n",
    "print(\"done\")"
   ]
  },
  {
   "cell_type": "markdown",
   "metadata": {},
   "source": [
    "La transformation n'est pas exacte - ce que l'on voit mieux visuellemente. \n",
    "![trafoBiLin.gif](./trafoBiLin.gif)\n",
    "\n",
    "## Question 1\n",
    "\n",
    "On obtient $H^\\prime(z)$ en remplaçant $p$ dans équation \\ref{eq:Hp} avec la transformation bilinéaire: \n",
    "\n",
    "\\begin{equation}\\label{eq:Hz}\n",
    "H^\\prime(z) = \\frac{1 + K^2 + 2 (1-K^2) z^{-1} + (1+K^2) z^{-2}}{1 + dK + K^2 + 2(1-K^2)z^{-1} + (1+K^2-dK)z^{-2}}\n",
    "\\end{equation}\n",
    "\n",
    "## Question 2\n",
    "\n",
    "On cherche les zéros $z_1$ et $z_2$ du numérateur. Il y en aura deux vu qu'il s'agit d'un polynom d'ordre 2. On en obtient les pulsations avec $z_{1,2}=e^{j\\omega_{1,2}}$. \n",
    "\n",
    "\\begin{equation}\n",
    "(1 + K^2) + 2 (1-K^2) z^{-1} + (1+K^2) z^{-2} \\stackrel{!}{=} 0 \\Leftrightarrow (1 + K^2) z^2 + 2 (1-K^2) z^{1} + (1+K^2) \\stackrel{!}{=} 0\n",
    "\\end{equation}\n",
    "\n",
    "Il s'agit d'un polynôme "
   ]
  },
  {
   "cell_type": "code",
   "execution_count": 8,
   "metadata": {},
   "outputs": [
    {
     "data": {
      "application/vnd.jupyter.widget-view+json": {
       "model_id": "082738a89d6c477e85193142aeb67535",
       "version_major": 2,
       "version_minor": 0
      },
      "text/plain": [
       "interactive(children=(FloatSlider(value=0.1, continuous_update=False, description='d', max=1.0, step=0.01), Fl…"
      ]
     },
     "metadata": {},
     "output_type": "display_data"
    },
    {
     "data": {
      "text/plain": [
       "<function __main__.plotH(d, K)>"
      ]
     },
     "execution_count": 8,
     "metadata": {},
     "output_type": "execute_result"
    }
   ],
   "source": [
    "import numpy as np\n",
    "import matplotlib.pyplot as plt\n",
    "from matplotlib import cm\n",
    "from ipywidgets import interact, interact_manual, IntSlider, FloatSlider, VBox, HBox, Label, Output\n",
    "from IPython.display import clear_output\n",
    "\n",
    "\n",
    "plt.style.use('ggplot')\n",
    "\n",
    "Hz = lambda z, K, d: (1+K**2+2*(1-K**2)/z+(1+K**2)/z**2) / (1+d*K+K**2+2*(1-K**2) / z+(1+K**2-d*K)/z**2)\n",
    "\n",
    "imz = np.linspace(-2, 2, 1000)\n",
    "rez = np.linspace(-2, 2, 1000)\n",
    "\n",
    "REZ, IMZ = np.meshgrid(rez, imz)\n",
    "Z = REZ + 1j * IMZ\n",
    "\n",
    "phiRange = np.linspace(0, 2*np.pi, 50)\n",
    "z1 = np.exp(1j*phiRange)\n",
    "\n",
    "\n",
    "slider_d = FloatSlider(min=0, max=1, step=0.01, continuous_update=False)\n",
    "slider_K = FloatSlider(min=0, max=3, step=0.1, continuous_update=False)\n",
    "\n",
    "\n",
    "def plotH(d, K):\n",
    "    plt.figure(figsize=(16,8))\n",
    "#     im = plt.imshow(np.log(np.absolute(Hz(Z, K, d))), extent=[rez.min(), rez.max(), imz.min(), imz.max()], cmap=cm.viridis, vmin=0, vmax=1)\n",
    "    im = plt.imshow(np.absolute(Hz(Z, K, d)), extent=[rez.min(), rez.max(), imz.min(), imz.max()], cmap=cm.viridis, vmin=0, vmax=1)\n",
    "    plt.axvline(0, color='C0', linewidth=2)\n",
    "    plt.axhline(0, color='C0', linewidth=2)\n",
    "    plt.plot(z1.real, z1.imag, color='white')\n",
    "    plt.xlabel(r\"Re(z)\")\n",
    "    plt.ylabel(r\"Im(z)\")\n",
    "    ax = plt.gca()\n",
    "    cb = plt.colorbar(im, orientation='vertical', ax=ax)\n",
    "    cb.set_label(r\"$\\ln |H(z)|$\")\n",
    "    plt.grid(True)\n",
    "    plt.title(\"Plan des z\")\n",
    "\n",
    "slider_d.value = 0.1\n",
    "slider_K.value = 1.83\n",
    "interact(plotH, d=slider_d, K=slider_K)\n",
    "\n"
   ]
  },
  {
   "cell_type": "markdown",
   "metadata": {},
   "source": [
    "-------------\n",
    "-------------\n",
    "\n",
    "La fonction de transfert $H(p)$ est definie comme rapport de la tranformé de Laplace (TL) du signal d'entrée $e(t)$ et celui de sortie $s(t)$ :\n",
    "\n",
    "\\begin{equation}\n",
    "H(p) = \\frac{S(p)}{E(p)}, \\; \\mathrm{ou} \\; \\quad S(p) = TL\\left\\{s(t)\\right\\} \\; \\mathrm{et} \\; E(p) = TL\\left\\{e(t)\\right\\}\n",
    "\\end{equation}\n",
    "\n",
    "Rappelez que la TL d'une impulsion $e(t) = \\delta{t}$ est $E(p) = 1$. Il serait difficile de calculer la TL de l'équation \\ref{eq:Hppoles} directement. Mieux l'écrire dans la forme suivante : \n",
    "\n",
    "\\begin{equation}\\label{eq:Hp2frac}\n",
    "H(p) = \\frac{2}{1+p} - \\frac{2}{2+p}\n",
    "\\end{equation}\n",
    "\n",
    "... parce que l'on sait bien que\n",
    "\n",
    "\\begin{equation}\\label{eq:tlclassique}\n",
    "TL\\left\\{ e^{-at} u(t) \\right\\} = \\frac{1}{p+a} \\;\\Leftrightarrow\\; TL\\left\\{ \\frac{1}{p+a} \\right\\} = e^{-at} u(t)\n",
    "\\end{equation}\n",
    "\n",
    "ou $u(t)$ est la fonction à echelon : $u(t) = 0$ pour $t<0$ et $u(t) = 1$ pour $t\\ge0$.\n",
    "\n",
    "Pour trouver équation \\ref{eq:Hp2frac}, Il convient écrire \n",
    "\n",
    "\\begin{equation}\n",
    "\\frac{A}{1+p} - \\frac{B}{2+p} \\stackrel{?}{=} \\frac{2}{(1+p)(2+p)}\n",
    "\\end{equation}\n",
    "\n",
    "et calculer $A$ et $B$. \n",
    "\n",
    "Avec équations \\ref{eq:Hp2frac} et \\ref{eq:tlclassique} on obtien la réponse impulsionelle s(t)\n",
    "\n",
    "\\begin{equation}\n",
    "s(t) = \\left( 2 e^{-t} - 2 e^{-2t} \\right) u(t). \n",
    "\\end{equation}\n"
   ]
  },
  {
   "cell_type": "code",
   "execution_count": 4,
   "metadata": {},
   "outputs": [
    {
     "name": "stdout",
     "output_type": "stream",
     "text": [
      "0.0\n"
     ]
    },
    {
     "data": {
      "image/png": "[encoded data removed]",
      "text/plain": [
       "<Figure size 720x504 with 1 Axes>"
      ]
     },
     "metadata": {},
     "output_type": "display_data"
    }
   ],
   "source": [
    "import numpy as np\n",
    "import matplotlib.pyplot as plt\n",
    "plt.style.use('ggplot')\n",
    "\n",
    "e = lambda t: np.exp(-t**2 / 1.e-10)\n",
    "s = lambda t : 2 * (np.exp(-t) - np.exp(-2*t)) * np.heaviside(t, 1)\n",
    "t = np.arange(-1, 6, 0.1)\n",
    "\n",
    "plt.figure(figsize=(10, 7))\n",
    "plt.plot(t, s(t), label=\"Réponse\")\n",
    "plt.plot(t, e(t), label=\"Entrée\")\n",
    "plt.xlabel(\"Temps [sec.]\")\n",
    "plt.ylabel(\"Signal\")\n",
    "plt.legend(loc=\"upper right\")\n",
    "print(e(1.))"
   ]
  },
  {
   "cell_type": "markdown",
   "metadata": {},
   "source": [
    "## Question 2 - Méthode de l'invariant impulsionnel"
   ]
  },
  {
   "cell_type": "markdown",
   "metadata": {},
   "source": [
    "D'abord, il faut echantillonner la réponse continue $h(t)$ (equation \\ref{eq:repimp}) à une fréquence $f_e = 1/T_e = 2\\,$Hz. La réponse discrète $h[n]$ est\n",
    "\n",
    "\\begin{equation}\\label{eq:hn}\n",
    "h[n] = T_e h(n T_e) = \\left(e^{-nT_e} - e^{-2nT_e} \\right) ; n\\ge0. \n",
    "\\end{equation}\n",
    "\n",
    "Pourquoi le factor de $T_e$ ? $\\Rightarrow$ [Formule sommatoire de Poison](https://fr.wikipedia.org/wiki/Formule_sommatoire_de_Poisson)\n",
    "\n",
    "Les premiers 4 coefficients sont:"
   ]
  },
  {
   "cell_type": "code",
   "execution_count": 5,
   "metadata": {},
   "outputs": [
    {
     "name": "stdout",
     "output_type": "stream",
     "text": [
      "pour n = 0 : h[0] =  0.0\n",
      "pour n = 0 : h[0] =  0.238651218541\n",
      "pour n = 0 : h[0] =  0.232544157935\n",
      "pour n = 0 : h[0] =  0.173343091781\n"
     ]
    }
   ],
   "source": [
    "import numpy as np\n",
    "Te = 0.5  # 1/s\n",
    "h = lambda n : np.exp(-n*Te) - np.exp(-2*n*Te)\n",
    "for n in [0,1,2,3]:\n",
    "    print(\"pour n = 0 : h[0] = \", h(n))"
   ]
  },
  {
   "cell_type": "markdown",
   "metadata": {},
   "source": [
    "## Question 3"
   ]
  },
  {
   "cell_type": "code",
   "execution_count": 6,
   "metadata": {},
   "outputs": [
    {
     "data": {
      "application/vnd.jupyter.widget-view+json": {
       "model_id": "68774bf93f83482da553718b84eec0a2",
       "version_major": 2,
       "version_minor": 0
      },
      "text/plain": [
       "VBox(children=(HBox(children=(Label(value='$\\\\omega$'), FloatSlider(value=0.0, continuous_update=False, max=3.…"
      ]
     },
     "metadata": {},
     "output_type": "display_data"
    }
   ],
   "source": [
    "from ipywidgets import interact, interact_manual, IntSlider, FloatSlider, VBox, HBox, Label, Output\n",
    "import numpy as np\n",
    "from IPython.display import clear_output\n",
    "\n",
    "Te = 0.5 # 1/s\n",
    "p2z = lambda p : (2 + Te*p) / (2 - Te*p)\n",
    "phiRange = np.linspace(0, 2*np.pi, 50)\n",
    "z1 = np.exp(1j*phiRange)\n",
    "\n",
    "\n",
    "slider = FloatSlider(min=-3, max=3, step=0.1, continuous_update=False)\n",
    "out = Output()\n",
    "\n",
    "def update(change):\n",
    "#    line.set_ydata(np.sin(w * x))\n",
    "    with out: \n",
    "        clear_output()\n",
    "        newOmega = change.new * 2*np.pi / Te\n",
    "        fig, ax = plt.subplots(nrows=1, ncols=2, figsize=(16, 8))\n",
    "        for n in [1,2,3]:\n",
    "            ax[0].axhline(n*2*np.pi/Te, color='C3', linestyle='--', alpha=0.6)\n",
    "            ax[0].axhline(-n*2*np.pi/Te, color='C3', linestyle='--', alpha=0.6)\n",
    "        ax[0].axvline(0, color='C1')\n",
    "        ax[0].axhline(0, color='C3')\n",
    "        ax[0].plot([0,0], [0, newOmega], linewidth=3, color='C0')\n",
    "        ax[0].scatter([0,0], [0, newOmega], color='C0')\n",
    "        ax[0].set_xlabel(r\"Re(p) = $\\sigma$\")\n",
    "        ax[0].set_ylabel(r\"Im(p) = $\\omega$ = $2\\pi f$\")\n",
    "        ax[0].set_title(\"Plan de Pascal\")\n",
    "        ax[0].set_xlim(-1, 1)\n",
    "        ax[0].grid(False)\n",
    "        #---\n",
    "        ax[1].plot(z1.real, z1.imag, color='C1')\n",
    "        z = p2z(1j*newOmega)\n",
    "        ax[1].plot([0, z.real], [0, z.imag], linewidth=3, color='C0')\n",
    "        ax[1].scatter([0, z.real], [0, z.imag], color='C0')\n",
    "        ax[1].set_xlabel(r\"Re(z)\")\n",
    "        ax[1].set_ylabel(r\"Im(z)\")  \n",
    "        ax[1].set_title(\"Plan des z\")\n",
    "        ax[1].grid(False)\n",
    "        plt.show()\n",
    "#     fig.canvas.draw()\n",
    "\n",
    "slider.observe(update, 'value')\n",
    "slider.value = 0.\n",
    "slider.label = r\"$\\omega$\"\n",
    "display(VBox([HBox([Label(r\"$\\omega$\"), slider]), out]))\n",
    "#interact(update, ax=ax, w=fslider)"
   ]
  },
  {
   "cell_type": "code",
   "execution_count": 7,
   "metadata": {},
   "outputs": [
    {
     "name": "stdout",
     "output_type": "stream",
     "text": [
      "done\n"
     ]
    }
   ],
   "source": [
    "import numpy as np\n",
    "import matplotlib.pyplot as plt\n",
    "import imageio\n",
    "from io import BytesIO\n",
    "plt.style.use('ggplot')\n",
    "\n",
    "\n",
    "Te = 0.5 # 1/s\n",
    "p2z = lambda p : (2 + Te*p) / (2 - Te*p)\n",
    "phiRange = np.linspace(0, 2*np.pi, 50)\n",
    "z1 = np.exp(1j*phiRange)\n",
    "\n",
    "images = []\n",
    "for k in np.linspace(0, 2, 100):\n",
    "    newOmega = k * 2*np.pi / Te\n",
    "    fig, ax = plt.subplots(nrows=1, ncols=2, figsize=(16, 8))\n",
    "    for n in [1,2,3]:\n",
    "        ax[0].axhline(n*2*np.pi/Te, color='C3', linestyle='--', alpha=0.6)\n",
    "        ax[0].axhline(-n*2*np.pi/Te, color='C3', linestyle='--', alpha=0.6)\n",
    "    ax[0].axvline(0, color='C1')\n",
    "    ax[0].axhline(0, color='C3')\n",
    "    ax[0].plot([0,0], [0, newOmega], linewidth=3, color='C0')\n",
    "    ax[0].scatter([0,0], [0, newOmega], color='C0')\n",
    "    ax[0].set_xlabel(r\"Re(p) = $\\sigma$\")\n",
    "    ax[0].set_ylabel(r\"Im(p) = $\\omega$ = $2\\pi f$\")\n",
    "    ax[0].set_title(\"Plan de Pascal\")\n",
    "    ax[0].set_xlim(-1, 1)\n",
    "    ax[0].grid(False)\n",
    "    #---\n",
    "    ax[1].plot(z1.real, z1.imag, color='C1')\n",
    "    z = p2z(1j*newOmega)\n",
    "    ax[1].plot([0, z.real], [0, z.imag], linewidth=3, color='C0')\n",
    "    ax[1].scatter([0, z.real], [0, z.imag], color='C0')\n",
    "    ax[1].axhline(0, color='C3')\n",
    "    ax[1].axvline(0, color='C3')\n",
    "    ax[1].set_xlabel(r\"Re(z)\")\n",
    "    ax[1].set_ylabel(r\"Im(z)\")  \n",
    "    ax[1].set_title(\"Plan des z\")\n",
    "    ax[1].grid(False)\n",
    "    ax[1].set_xlim(-1.1, 1.1)\n",
    "    ax[1].set_ylim(-1.1, 1.1)\n",
    "    output = BytesIO()\n",
    "    fig.savefig(output)\n",
    "    plt.close(fig)  # close figure when we're finished to prevent matplotlib warnings\n",
    "    output.seek(0)\n",
    "    images.append(imageio.imread(output))\n",
    "imageio.mimsave(\"trafoBiLin.gif\", images, fps=10)\n",
    "    \n",
    "print(\"done\")"
   ]
  },
  {
   "cell_type": "markdown",
   "metadata": {},
   "source": [
    "La transformation bilinéaire transform l'axe imaginaire $\\omega$ du plan de Laplace dans le circle d'unité du plan des z:\n",
    "![trafoBiLin.gif](./trafoBiLin.gif)"
   ]
  },
  {
   "cell_type": "code",
   "execution_count": 11,
   "metadata": {},
   "outputs": [
    {
     "data": {
      "application/vnd.jupyter.widget-view+json": {
       "model_id": "096df4eb6dcd4888b034ed580f4dc022",
       "version_major": 2,
       "version_minor": 0
      },
      "text/plain": [
       "interactive(children=(IntSlider(value=1, continuous_update=False, description='Amplitude of sine function', ma…"
      ]
     },
     "metadata": {},
     "output_type": "display_data"
    },
    {
     "data": {
      "application/vnd.jupyter.widget-view+json": {
       "model_id": "a4295709b21b4df8b28582478a310ef6",
       "version_major": 2,
       "version_minor": 0
      },
      "text/plain": [
       "interactive(children=(IntSlider(value=1, continuous_update=False, description='Amplitude of sine function', ma…"
      ]
     },
     "metadata": {},
     "output_type": "display_data"
    },
    {
     "data": {
      "text/plain": [
       "<function __main__.widget_cosine_function(amp_c=IntSlider(value=1, continuous_update=False, description='Amplitude of sine function', max=10, min=1))>"
      ]
     },
     "execution_count": 11,
     "metadata": {},
     "output_type": "execute_result"
    }
   ],
   "source": [
    "import matplotlib.pyplot as plt\n",
    "from ipywidgets import *\n",
    "from math import * \n",
    "import numpy as np\n",
    "# %matplotlib inline\n",
    "\n",
    "default_value = 1  # Default value of amplutide \n",
    "\n",
    "a = IntSlider(min = 1, max = 10, value = default_value, description = 'Amplitude of sine function', continuous_update=False)\n",
    "b = IntSlider(min = 1, max = 10, value = default_value, description = 'Amplitude of sine function', continuous_update=False)\n",
    "\n",
    "mylink = jslink((a, 'value'), (b, 'value'))\n",
    "\n",
    "def widget_sine_function(amp_s = a):\n",
    "  x = np.linspace(0,20,100000)  # Creat x-values for sine function\n",
    "  y = [amp_s*sin(i) for i in x]  # Create y-values for sine function with amplitude according to value of widget a\n",
    "#   plt.clf()\n",
    "  plt.figure(figsize=(15,5))\n",
    "#   plt.subplot(1, 2, 1)\n",
    "  plt.plot(x,y)\n",
    "\n",
    "interact(widget_sine_function)\n",
    "\n",
    "# SECOND JUPYTER NOTEBOOK CELL\n",
    "def widget_cosine_function(amp_c = b):\n",
    "  x = np.linspace(0,20,100000)  # Creat x-values for cosine function\n",
    "  y = [amp_c*cos(i) for i in x]  # Create y-values for cosine function with amplitude according to value of widget b\n",
    "#   plt.clf()\n",
    "  plt.figure(figsize=(15,5))\n",
    "#   plt.subplot(1, 2, 1)\n",
    "  plt.plot(x,y)\n",
    "\n",
    "interact(widget_cosine_function)"
   ]
  },
  {
   "cell_type": "code",
   "execution_count": 1,
   "metadata": {},
   "outputs": [
    {
     "data": {
      "application/javascript": [
       "IPython.notebook.save_checkpoint();"
      ],
      "text/plain": [
       "<IPython.core.display.Javascript object>"
      ]
     },
     "metadata": {},
     "output_type": "display_data"
    },
    {
     "data": {
      "application/javascript": [
       "IPython.notebook.save_notebook();"
      ],
      "text/plain": [
       "<IPython.core.display.Javascript object>"
      ]
     },
     "metadata": {},
     "output_type": "display_data"
    },
    {
     "name": "stdout",
     "output_type": "stream",
     "text": [
      "Saving notebook... Saved 'TS-TD7.ipynb'.\n",
      "Converting notebook...\n"
     ]
    },
    {
     "name": "stderr",
     "output_type": "stream",
     "text": [
      "WARNING:root:\n",
      "Error when converting :(\n",
      "\n",
      "Double check that you didn't misspell your filename. This is the filename you\n",
      "wanted to publish: TS-TD7.ipynb.\n",
      "\n",
      "If you believe this is an error with the package, please report an issue at\n",
      "https://github.com/SamLau95/nbinteract/issues/new and include the error output\n",
      "below:\n",
      "\n",
      "==============\n",
      "\n",
      "\u001b[91m[nbinteract] \u001b[0m--spec flag not set and no .nbinteract.json file found. Rerun this\n",
      "\u001b[91m[nbinteract] \u001b[0m  command with the --spec flag or run `nbinteract init` to resolve\n",
      "\u001b[91m[nbinteract] \u001b[0m  this issue.\n",
      "Usage:\n",
      "  nbinteract init\n",
      "  nbinteract NOTEBOOKS ...\n",
      "  nbinteract [options] NOTEBOOKS ...\n",
      "  nbinteract (-h | --help)\n",
      "\n",
      "\n"
     ]
    }
   ],
   "source": [
    "import nbinteract as nbi \n",
    "nbi.publish('nkrah/ts4/master', 'TS-TD7.ipynb')"
   ]
  }
 ],
 "metadata": {
  "author": "h",
  "kernelspec": {
   "display_name": "Python 3",
   "language": "python",
   "name": "python3"
  },
  "language_info": {
   "codemirror_mode": {
    "name": "ipython",
    "version": 3
   },
   "file_extension": ".py",
   "mimetype": "text/x-python",
   "name": "python",
   "nbconvert_exporter": "python",
   "pygments_lexer": "ipython3",
   "version": "3.6.5"
  },
  "latex_envs": {
   "LaTeX_envs_menu_present": true,
   "autoclose": false,
   "autocomplete": true,
   "bibliofile": "biblio.bib",
   "cite_by": "apalike",
   "current_citInitial": 1,
   "eqLabelWithNumbers": true,
   "eqNumInitial": 1,
   "hotkeys": {
    "equation": "Ctrl-E",
    "itemize": "Ctrl-I"
   },
   "labels_anchors": false,
   "latex_user_defs": false,
   "report_style_numbering": false,
   "user_envs_cfg": false
  }
 },
 "nbformat": 4,
 "nbformat_minor": 2
}
